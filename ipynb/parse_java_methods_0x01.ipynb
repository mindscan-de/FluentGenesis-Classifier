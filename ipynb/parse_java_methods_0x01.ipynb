{
 "cells": [
  {
   "cell_type": "markdown",
   "metadata": {},
   "source": [
    "# Parse Java Methods\n",
    "----\n",
    "(C) Maxim Gansert, 2020, Mindscan Engineering"
   ]
  },
  {
   "cell_type": "markdown",
   "metadata": {},
   "source": []
  },
  {
   "cell_type": "code",
   "execution_count": null,
   "metadata": {},
   "outputs": [],
   "source": [
    "import sys\n",
    "sys.path.insert(0,'../src')\n",
    "\n",
    "import os\n",
    "import datetime"
   ]
  },
  {
   "cell_type": "markdown",
   "metadata": {},
   "source": []
  },
  {
   "cell_type": "code",
   "execution_count": null,
   "metadata": {},
   "outputs": [],
   "source": [
    "from com.github.c2nes.javalang import tokenizer, parser, ast\n",
    "from de.mindscan.fluentgenesis.dataprocessing.method_extractor import tokenize_file, extract_allmethods_from_compilation_unit\n"
   ]
  },
  {
   "cell_type": "code",
   "execution_count": null,
   "metadata": {},
   "outputs": [],
   "source": [
    "from de.mindscan.fluentgenesis.bpe.bpe_model import BPEModel\n",
    "from de.mindscan.fluentgenesis.bpe.bpe_encoder_decoder import SimpleBPEEncoder\n",
    "from de.mindscan.fluentgenesis.dataprocessing.method_dataset import MethodDataset"
   ]
  },
  {
   "cell_type": "code",
   "execution_count": null,
   "metadata": {},
   "outputs": [],
   "source": []
  },
  {
   "cell_type": "code",
   "execution_count": null,
   "metadata": {},
   "outputs": [],
   "source": [
    "def split_methodbody_into_multiple_lines(method_body):\n",
    "    result = []\n",
    "    current_line_number = -1\n",
    "    current_line_tokens = []\n",
    "    for token in method_body:\n",
    "        token_line = token.position[0]\n",
    "        \n",
    "        if token_line != current_line_number:\n",
    "            current_line_number = token_line\n",
    "            if len(current_line_tokens) != 0:\n",
    "                result.append(current_line_tokens)\n",
    "                current_line_tokens = []\n",
    "        current_line_tokens.append(token.value)\n",
    "        pass\n",
    "    if len(current_line_tokens) !=0:\n",
    "        result.append(current_line_tokens)\n",
    "        pass\n",
    "    return result\n"
   ]
  },
  {
   "cell_type": "code",
   "execution_count": null,
   "metadata": {},
   "outputs": [],
   "source": [
    "def process_source_file(dataset_directory, source_file_path, encoder, dataset):\n",
    "    # derive the full source file path\n",
    "    full_source_file_path = os.path.join( dataset_directory, source_file_path);\n",
    "    \n",
    "    # Work on the source file\n",
    "    java_tokenlist = tokenize_file(full_source_file_path)\n",
    "    parsed_compilation_unit = parser.parse(java_tokenlist)\n",
    "    \n",
    "    # collect file names, line numbers, method names, class names etc  \n",
    "    all_methods_per_source = extract_allmethods_from_compilation_unit(parsed_compilation_unit, java_tokenlist)\n",
    "    \n",
    "    for single_method in all_methods_per_source:\n",
    "        try:\n",
    "            method_name = single_method['method_name']\n",
    "            method_class_name = single_method['class_name']\n",
    "            method_body = single_method['method_body']\n",
    "            \n",
    "            multi_line_body = split_methodbody_into_multiple_lines(method_body)\n",
    "            one_line = [item for sublist in multi_line_body for item in sublist]\n",
    "            print(one_line)\n",
    "            \n",
    "            # encode body code and methodnames using the bpe-vocabulary\n",
    "            bpe_encoded_methodname = encoder.encode( [ method_name ] )\n",
    "            bpe_encoded_methodbody_ml = encoder.encode_multi_line( multi_line_body )\n",
    "            \n",
    "            # do some calculations on the tokens and on the java code, so selection of smaller datasets is possible\n",
    "            bpe_encoded_method_name_length = len(bpe_encoded_methodname)\n",
    "            bpe_encoded_method_body_length = sum([len(line) for line in bpe_encoded_methodbody_ml])\n",
    "            \n",
    "            # save this into dataset\n",
    "            method_data = { \n",
    "                \"source_file_path\": source_file_path,\n",
    "                \"method_class_name\": method_class_name,\n",
    "                \"method_name\": method_name,\n",
    "                \"encoded_method_name_length\": bpe_encoded_method_name_length,\n",
    "                \"encoded_method_name\": bpe_encoded_methodname,\n",
    "                \"encoded_method_body_length\": bpe_encoded_method_body_length,\n",
    "                \"encoded_method_body\": bpe_encoded_methodbody_ml,\n",
    "                \"method_body\": method_body \n",
    "                }\n",
    "            dataset.add_method_data( method_data )\n",
    "        except:\n",
    "            # ignore problematic method\n",
    "            pass\n"
   ]
  },
  {
   "cell_type": "code",
   "execution_count": null,
   "metadata": {},
   "outputs": [],
   "source": [
    "\n",
    "model = BPEModel(\"16K-full\", \"../src/de/mindscan/fluentgenesis/bpe/\")\n",
    "model.load_hparams()\n",
    "\n",
    "dataset_directory = 'D:\\\\Downloads\\\\Big-Code-excerpt\\\\'\n",
    "\n",
    "model_vocabulary = model.load_tokens()\n",
    "model_bpe_data = model.load_bpe_pairs()\n",
    "\n",
    "encoder = SimpleBPEEncoder(model_vocabulary, model_bpe_data)\n",
    "\n",
    "method_dataset = MethodDataset(dataset_name='parseMethodPythonNotebook1.jsonl')\n",
    "method_dataset.prepareNewDataset(dataset_directory)\n",
    "    \n",
    "process_source_file(dataset_directory,'wordhash/WordMap.java' ,encoder, method_dataset )\n",
    "\n",
    "method_dataset.finish()\n"
   ]
  },
  {
   "cell_type": "code",
   "execution_count": null,
   "metadata": {},
   "outputs": [],
   "source": []
  },
  {
   "cell_type": "code",
   "execution_count": null,
   "metadata": {},
   "outputs": [],
   "source": []
  }
 ],
 "metadata": {
  "kernelspec": {
   "display_name": "Python 3",
   "language": "python",
   "name": "python3"
  },
  "language_info": {
   "codemirror_mode": {
    "name": "ipython",
    "version": 3
   },
   "file_extension": ".py",
   "mimetype": "text/x-python",
   "name": "python",
   "nbconvert_exporter": "python",
   "pygments_lexer": "ipython3",
   "version": "3.6.4"
  },
  "toc": {
   "base_numbering": 1,
   "nav_menu": {},
   "number_sections": true,
   "sideBar": true,
   "skip_h1_title": false,
   "title_cell": "Table of Contents",
   "title_sidebar": "Contents",
   "toc_cell": false,
   "toc_position": {},
   "toc_section_display": true,
   "toc_window_display": false
  }
 },
 "nbformat": 4,
 "nbformat_minor": 2
}
