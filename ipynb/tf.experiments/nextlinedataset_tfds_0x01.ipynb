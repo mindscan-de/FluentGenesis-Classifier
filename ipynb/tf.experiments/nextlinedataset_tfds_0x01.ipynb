{
 "cells": [
  {
   "cell_type": "markdown",
   "metadata": {},
   "source": [
    "# NextLineDataset as Tensorflow Data\n",
    "\n",
    "(C) Maxim Gansert, 2020, Mindscan Engineering"
   ]
  },
  {
   "cell_type": "code",
   "execution_count": null,
   "metadata": {},
   "outputs": [],
   "source": [
    "import os\n",
    "import json\n",
    "\n",
    "import tensorflow as tf"
   ]
  },
  {
   "cell_type": "code",
   "execution_count": null,
   "metadata": {},
   "outputs": [],
   "source": []
  },
  {
   "cell_type": "code",
   "execution_count": null,
   "metadata": {},
   "outputs": [],
   "source": [
    "context_dataset = tf.data.TextLineDataset( \n",
    "    os.path.join('D:\\\\Downloads\\\\Big-Code-excerpt','NextLineTranslationDataset.jsonl.from'))\n",
    "nextline_dataset = tf.data.TextLineDataset(\n",
    "    os.path.join('D:\\\\Downloads\\\\Big-Code-excerpt','NextLineTranslationDataset.jsonl.to'))"
   ]
  },
  {
   "cell_type": "code",
   "execution_count": null,
   "metadata": {},
   "outputs": [],
   "source": []
  },
  {
   "cell_type": "code",
   "execution_count": null,
   "metadata": {},
   "outputs": [],
   "source": [
    "def my_json_decode(source, target):\n",
    "    source_decoded = json.loads(source.numpy())\n",
    "    target_decoded = json.loads(target.numpy())\n",
    "    return source_decoded, target_decoded\n",
    "\n",
    "def tf_context_nextline_json_decode(context, nextline):\n",
    "    result_context, result_nextline = tf.py_function(my_json_decode, [context, nextline], [tf.int64, tf.int64])\n",
    "    result_context.set_shape([None])\n",
    "    result_nextline.set_shape([None])\n",
    "\n",
    "    return result_context, result_nextline\n",
    "\n",
    "# Length of a \"sentence\"\n",
    "MAX_LENGTH = 96\n",
    "\n",
    "# ??\n",
    "BUFFER_SIZE = 50000\n",
    "\n",
    "# Number of sentences processed in one batch\n",
    "BATCH_SIZE = 96\n",
    "\n",
    "def filter_max_length(x, y, max_length=MAX_LENGTH):\n",
    "    return tf.logical_and(tf.size(x) <= max_length,\n",
    "                        tf.size(y) <= max_length)\n",
    "\n",
    "# combine both datasets - parallel corpus\n",
    "train_dataset_ = tf.data.Dataset.zip((context_dataset, nextline_dataset))\n",
    "# transform from string to bpe encoded message\n",
    "train_dataset__ = train_dataset_.map(tf_context_nextline_json_decode)\n",
    "\n",
    "# filter dataset entries exceeding the capacity\n",
    "train_dataset = train_dataset__.filter(filter_max_length)\n",
    "\n",
    "# now do preprocessing and shuffle data around\n",
    "train_dataset = train_dataset.cache()\n",
    "train_dataset = train_dataset.shuffle(BUFFER_SIZE).padded_batch(BATCH_SIZE)\n",
    "train_dataset = train_dataset.prefetch(tf.data.experimental.AUTOTUNE)\n",
    "\n",
    "# train_dataset should now be ready for the given transformer.\n",
    "# We have to evaluate that whether everything worked ok"
   ]
  },
  {
   "cell_type": "code",
   "execution_count": null,
   "metadata": {},
   "outputs": [],
   "source": [
    "for (batch, (context, nextline)) in enumerate(train_dataset):\n",
    "    print('Batch: '+str(batch) + '\\n')\n",
    "    print('Context:\\n')\n",
    "    print(context)\n",
    "    print('Context:\\n')\n",
    "    print(nextline)\n",
    "    \n",
    "    # only one round...\n",
    "    break"
   ]
  },
  {
   "cell_type": "code",
   "execution_count": null,
   "metadata": {},
   "outputs": [],
   "source": []
  },
  {
   "cell_type": "code",
   "execution_count": null,
   "metadata": {},
   "outputs": [],
   "source": []
  },
  {
   "cell_type": "code",
   "execution_count": null,
   "metadata": {},
   "outputs": [],
   "source": []
  },
  {
   "cell_type": "code",
   "execution_count": null,
   "metadata": {},
   "outputs": [],
   "source": []
  }
 ],
 "metadata": {
  "kernelspec": {
   "display_name": "Python 3",
   "language": "python",
   "name": "python3"
  },
  "language_info": {
   "codemirror_mode": {
    "name": "ipython",
    "version": 3
   },
   "file_extension": ".py",
   "mimetype": "text/x-python",
   "name": "python",
   "nbconvert_exporter": "python",
   "pygments_lexer": "ipython3",
   "version": "3.6.4"
  },
  "toc": {
   "base_numbering": 1,
   "nav_menu": {},
   "number_sections": true,
   "sideBar": true,
   "skip_h1_title": false,
   "title_cell": "Table of Contents",
   "title_sidebar": "Contents",
   "toc_cell": false,
   "toc_position": {},
   "toc_section_display": true,
   "toc_window_display": false
  }
 },
 "nbformat": 4,
 "nbformat_minor": 2
}
