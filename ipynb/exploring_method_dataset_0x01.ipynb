{
 "cells": [
  {
   "cell_type": "markdown",
   "metadata": {},
   "source": [
    "# Explore the method dataset\n",
    "(C) Maxim Gansert, 2020, Mindscan"
   ]
  },
  {
   "cell_type": "code",
   "execution_count": null,
   "metadata": {},
   "outputs": [],
   "source": [
    "import sys\n",
    "sys.path.insert(0,'../src')"
   ]
  },
  {
   "cell_type": "code",
   "execution_count": null,
   "metadata": {},
   "outputs": [],
   "source": [
    "from de.mindscan.fluentgenesis.bpe.bpe_model import BPEModel\n",
    "from de.mindscan.fluentgenesis.dataprocessing.method_dataset import MethodDataset\n",
    "\n"
   ]
  },
  {
   "cell_type": "code",
   "execution_count": null,
   "metadata": {},
   "outputs": [],
   "source": [
    "model = BPEModel(\"16K-full\", \"../src/de/mindscan/fluentgenesis/bpe/\")\n",
    "model.load_hparams()\n",
    "dataset_directory = model.get_data_source_path()\n",
    "\n",
    "\n",
    "method_dataset = MethodDataset()\n",
    "method_dataset.loadDataset(dataset_directory = dataset_directory)"
   ]
  },
  {
   "cell_type": "code",
   "execution_count": null,
   "metadata": {
    "scrolled": false
   },
   "outputs": [],
   "source": [
    "number_of_methods = 0;\n",
    "\n",
    "\n",
    "method_name_length_histogram = {}\n",
    "method_body_length = {}\n",
    "\n",
    "method_data = method_dataset.read_next_method_data()\n",
    "\n",
    "while method_data is not None:\n",
    "    number_of_methods = number_of_methods + 1\n",
    "    \n",
    "    if number_of_methods % (256*1024) is 0:\n",
    "        print(str(number_of_methods / 1024) + \"k methoden geladen.\")\n",
    "\n",
    "    # statistic body length\n",
    "    len_body = method_data['length_encoded_method_body']\n",
    "    \n",
    "    if len_body<=64:\n",
    "        if len_body not in method_body_length:\n",
    "            method_body_length[len_body] = 1\n",
    "        else:\n",
    "            method_body_length[len_body] = method_body_length[len_body] + 1\n",
    "\n",
    "        # Statistik method length\n",
    "        len_enc_method_name = method_data['length_encoded_method_name']\n",
    "        if len_enc_method_name not in method_name_length_histogram:\n",
    "            method_name_length_histogram[len_enc_method_name] = 1\n",
    "        else:\n",
    "            method_name_length_histogram[len_enc_method_name] = method_name_length_histogram[len_enc_method_name] + 1\n",
    "\n",
    "    method_data = method_dataset.read_next_method_data()        \n",
    "        \n",
    "    # länge methoden namen in token\n",
    "    # länge methodenbody in token\n",
    "    # aufsammeln aller methodennamen und deren occurence\n",
    "\n",
    "method_dataset.finish()"
   ]
  },
  {
   "cell_type": "code",
   "execution_count": null,
   "metadata": {},
   "outputs": [],
   "source": [
    "print(number_of_methods)\n",
    "\n",
    "\n",
    "for len in sorted(method_name_length_histogram.keys()):\n",
    "    count = method_name_length_histogram[len]\n",
    "    print(\"Method Name len \" + str(len) + \" #count: \" + str(count))\n",
    "\n",
    "all_body_count = 0\n",
    "for len in sorted(method_body_length.keys()):\n",
    "    count = method_body_length[len]\n",
    "    all_body_count = all_body_count + count\n",
    "    print(\"Body len \" + str(len) + \" #count: \" + str(count))\n",
    "    \n",
    "print(\"Methods with maximum of 64 tokens in body\" + str(all_body_count))"
   ]
  },
  {
   "cell_type": "code",
   "execution_count": null,
   "metadata": {},
   "outputs": [],
   "source": []
  }
 ],
 "metadata": {
  "kernelspec": {
   "display_name": "Python 3",
   "language": "python",
   "name": "python3"
  },
  "language_info": {
   "codemirror_mode": {
    "name": "ipython",
    "version": 3
   },
   "file_extension": ".py",
   "mimetype": "text/x-python",
   "name": "python",
   "nbconvert_exporter": "python",
   "pygments_lexer": "ipython3",
   "version": "3.6.4"
  },
  "toc": {
   "base_numbering": 1,
   "nav_menu": {},
   "number_sections": true,
   "sideBar": true,
   "skip_h1_title": false,
   "title_cell": "Table of Contents",
   "title_sidebar": "Contents",
   "toc_cell": false,
   "toc_position": {},
   "toc_section_display": true,
   "toc_window_display": false
  },
  "varInspector": {
   "cols": {
    "lenName": 16,
    "lenType": 16,
    "lenVar": 40
   },
   "kernels_config": {
    "python": {
     "delete_cmd_postfix": "",
     "delete_cmd_prefix": "del ",
     "library": "var_list.py",
     "varRefreshCmd": "print(var_dic_list())"
    },
    "r": {
     "delete_cmd_postfix": ") ",
     "delete_cmd_prefix": "rm(",
     "library": "var_list.r",
     "varRefreshCmd": "cat(var_dic_list()) "
    }
   },
   "types_to_exclude": [
    "module",
    "function",
    "builtin_function_or_method",
    "instance",
    "_Feature"
   ],
   "window_display": false
  }
 },
 "nbformat": 4,
 "nbformat_minor": 2
}
