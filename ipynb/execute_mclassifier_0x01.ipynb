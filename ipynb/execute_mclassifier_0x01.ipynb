{
 "cells": [
  {
   "cell_type": "markdown",
   "metadata": {},
   "source": [
    "# Load the predictor model\n",
    "----\n",
    "(C) Maxim Gansert, Mindscan"
   ]
  },
  {
   "cell_type": "code",
   "execution_count": null,
   "metadata": {},
   "outputs": [],
   "source": [
    "import sys\n",
    "sys.path.insert(0, '../src')"
   ]
  },
  {
   "cell_type": "code",
   "execution_count": null,
   "metadata": {},
   "outputs": [],
   "source": [
    "import os\n",
    "import random\n",
    "\n",
    "import pandas as pd\n",
    "import numpy as np\n",
    "import tensorflow as tf\n",
    "\n",
    "from de.mindscan.fluentgenesis.bpe.bpe_model import BPEModel"
   ]
  },
  {
   "cell_type": "markdown",
   "metadata": {},
   "source": [
    "##  Load the Keras model\n",
    "\n",
    "A checkpoint is provided and the whole model is instantiated"
   ]
  },
  {
   "cell_type": "code",
   "execution_count": null,
   "metadata": {},
   "outputs": [],
   "source": [
    "\n",
    "checkpoint = '../data/checkpoints/20200516_1750/predict_m'\n",
    "\n",
    "m_model = tf.keras.models.load_model(checkpoint)\n",
    "m_model.summary()\n"
   ]
  },
  {
   "cell_type": "code",
   "execution_count": null,
   "metadata": {},
   "outputs": [],
   "source": []
  },
  {
   "cell_type": "code",
   "execution_count": null,
   "metadata": {},
   "outputs": [],
   "source": [
    "bpemodel = BPEModel(\"16K-full\", \"../src/de/mindscan/fluentgenesis/bpe/\")\n",
    "bpemodel.load_hparams()\n",
    "\n",
    "dataset_directory = bpemodel.get_data_source_path() + \"_ml1_bl1_to_bl24\"\n",
    "\n",
    "model_vocabulary = bpemodel.load_tokens()\n",
    "model_vocabulary_inv = {v: k for k, v in model_vocabulary.items()}\n",
    "\n",
    "# add the Padding symbol to the model vocabulary.\n",
    "PAD = 0\n",
    "UNK = 0\n",
    "model_vocabulary[PAD] = '<PAD>'\n",
    "\n",
    "print (model_vocabulary[PAD])\n",
    "print (len(model_vocabulary))\n",
    "\n",
    "MODEL_VOCABULARY_LENGTH = len(model_vocabulary)"
   ]
  },
  {
   "cell_type": "markdown",
   "metadata": {},
   "source": [
    "## Load the data"
   ]
  },
  {
   "cell_type": "code",
   "execution_count": null,
   "metadata": {},
   "outputs": [],
   "source": [
    "LENGTH_TO_PREDICT = 100\n",
    "TRAINING_DATA_SIZE = 60000\n",
    "\n",
    "\n",
    "# where to get the training data\n",
    "m_training_data_fullFilename = os.path.join(dataset_directory, 'training_data.jsonl')\n",
    "\n",
    "m_dataframe = pd.read_json(m_training_data_fullFilename, lines=True)\n",
    "\n",
    "# only use the first TRAINING_DATA_SIZE for training and testing (and exploring) the model, whether it can converge\n",
    "m_data = np.stack(m_dataframe['encoded_body'][:TRAINING_DATA_SIZE],axis=0)\n",
    "m_labels = m_dataframe['encoded_class_label'][:TRAINING_DATA_SIZE]"
   ]
  },
  {
   "cell_type": "markdown",
   "metadata": {},
   "source": [
    "## predict something\n"
   ]
  },
  {
   "cell_type": "code",
   "execution_count": null,
   "metadata": {},
   "outputs": [],
   "source": [
    "START = random.randint(0,TRAINING_DATA_SIZE-LENGTH_TO_PREDICT)\n",
    "\n",
    "print (\"Start: \"+str(START))\n",
    "topredict=np.stack(m_data[START:START+LENGTH_TO_PREDICT])\n"
   ]
  },
  {
   "cell_type": "code",
   "execution_count": null,
   "metadata": {
    "scrolled": false
   },
   "outputs": [],
   "source": [
    "K = 5\n",
    "\n",
    "probs = m_model.predict(topredict)\n",
    "\n",
    "def top_k(p,k):\n",
    "    probabilities=p.copy()\n",
    "    result = []\n",
    "    for _ in range(0,k):\n",
    "        first_class = np.argmax(probabilities, axis=-1)\n",
    "        probabilities[first_class]=0.0\n",
    "        result.append(first_class)\n",
    "    return result\n",
    "\n",
    "\n",
    "def map_token(index, vocab):\n",
    "    if index not in vocab:\n",
    "        return None\n",
    "    else:\n",
    "        return vocab[index]\n",
    "\n",
    "def tokens(indexes, vocab):\n",
    "    result = []\n",
    "    for x in indexes:\n",
    "        r = map_token(x, vocab)\n",
    "        if r is not None:\n",
    "            result.append(r)\n",
    "    return result\n",
    "\n",
    "\n",
    "for i in range(0,LENGTH_TO_PREDICT):\n",
    "    truth = model_vocabulary_inv[m_labels[i+START]]\n",
    "    topk = str(tokens(top_k(probs[i],K), model_vocabulary_inv))\n",
    "    source = str(tokens(m_data[i+START],model_vocabulary_inv))\n",
    "    print(\"truth: \"+ truth + \" predicted: \" + topk)\n",
    "    print(\"{ \" + source+ \" }\\n\")\n",
    "    "
   ]
  },
  {
   "cell_type": "code",
   "execution_count": null,
   "metadata": {},
   "outputs": [],
   "source": []
  },
  {
   "cell_type": "code",
   "execution_count": null,
   "metadata": {},
   "outputs": [],
   "source": []
  },
  {
   "cell_type": "code",
   "execution_count": null,
   "metadata": {},
   "outputs": [],
   "source": []
  },
  {
   "cell_type": "code",
   "execution_count": null,
   "metadata": {},
   "outputs": [],
   "source": []
  },
  {
   "cell_type": "code",
   "execution_count": null,
   "metadata": {},
   "outputs": [],
   "source": []
  },
  {
   "cell_type": "code",
   "execution_count": null,
   "metadata": {},
   "outputs": [],
   "source": []
  }
 ],
 "metadata": {
  "kernelspec": {
   "display_name": "Python 3",
   "language": "python",
   "name": "python3"
  },
  "language_info": {
   "codemirror_mode": {
    "name": "ipython",
    "version": 3
   },
   "file_extension": ".py",
   "mimetype": "text/x-python",
   "name": "python",
   "nbconvert_exporter": "python",
   "pygments_lexer": "ipython3",
   "version": "3.6.4"
  },
  "toc": {
   "base_numbering": 1,
   "nav_menu": {},
   "number_sections": true,
   "sideBar": true,
   "skip_h1_title": false,
   "title_cell": "Table of Contents",
   "title_sidebar": "Contents",
   "toc_cell": false,
   "toc_position": {},
   "toc_section_display": true,
   "toc_window_display": false
  }
 },
 "nbformat": 4,
 "nbformat_minor": 2
}
