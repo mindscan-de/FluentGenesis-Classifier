{
 "cells": [
  {
   "cell_type": "markdown",
   "metadata": {},
   "source": [
    "# Byte Pair Encoding (Tutorial 0x01)\n",
    "(C) Maxim Gansert, 2019, 2022, Mindscan Engineering\n"
   ]
  },
  {
   "cell_type": "markdown",
   "metadata": {},
   "source": [
    "Byte Pair Encoding is a compression scheme, (I found a description of that in an article in the \"C/C++ Users Journal\" of September 1997, Page 23--30, by Philip Gage)\n",
    "\n",
    "Today this algorithm is used for encoding textual inputs, which is preprocessed for NLP/NLU-tasks (natural language processing, natural language understanding) it allows encoding/pairing the characters in a sub-word-level and also provides an option for encoding unknown words.\n",
    "\n",
    "How does it being intended to work?\n",
    "\n",
    "### Encode ###\n",
    "\n",
    "\n",
    "Original Description says:\n",
    "\n",
    "The following pseudocode illustrates the compression process:\n",
    "~~~~\n",
    "Read file into buffer\n",
    "While (compression possible)\n",
    "{\n",
    "    find most frequent byte pair in buffer\n",
    "    \n",
    "    add pair to table and assign it an unused byte\n",
    "    \n",
    "    replace all such pairs with this unused byte\n",
    "}\n",
    "Write pair table and buffer\n",
    "~~~~\n",
    "\n",
    "### Decode ###\n",
    "\n",
    "Original Description says:\n",
    "\n",
    "The following pseudocode illustrates the decompression process:\n",
    "\n",
    "~~~~\n",
    "read and store the pair table in buffer\n",
    "while ( stack not empty or not end of file)\n",
    "{\n",
    "    if (stack empty) read byte\n",
    "    else pop byte from stack\n",
    "    \n",
    "    if(byte is pair code) push pair on stack\n",
    "    else write byte      \n",
    "}\n",
    "~~~~\n",
    "\n",
    "### Process ###\n",
    "\n",
    "After each compression step the data to compress needs a reanalysis. So this is a multipass step."
   ]
  },
  {
   "cell_type": "code",
   "execution_count": null,
   "metadata": {
    "collapsed": true
   },
   "outputs": [],
   "source": []
  }
 ],
 "metadata": {
  "kernelspec": {
   "display_name": "Python 3",
   "language": "python",
   "name": "python3"
  },
  "language_info": {
   "codemirror_mode": {
    "name": "ipython",
    "version": 3
   },
   "file_extension": ".py",
   "mimetype": "text/x-python",
   "name": "python",
   "nbconvert_exporter": "python",
   "pygments_lexer": "ipython3",
   "version": "3.6.4"
  },
  "toc": {
   "base_numbering": 1,
   "nav_menu": {},
   "number_sections": true,
   "sideBar": true,
   "skip_h1_title": false,
   "title_cell": "Table of Contents",
   "title_sidebar": "Contents",
   "toc_cell": false,
   "toc_position": {},
   "toc_section_display": true,
   "toc_window_display": false
  },
  "varInspector": {
   "cols": {
    "lenName": 16,
    "lenType": 16,
    "lenVar": 40
   },
   "kernels_config": {
    "python": {
     "delete_cmd_postfix": "",
     "delete_cmd_prefix": "del ",
     "library": "var_list.py",
     "varRefreshCmd": "print(var_dic_list())"
    },
    "r": {
     "delete_cmd_postfix": ") ",
     "delete_cmd_prefix": "rm(",
     "library": "var_list.r",
     "varRefreshCmd": "cat(var_dic_list()) "
    }
   },
   "types_to_exclude": [
    "module",
    "function",
    "builtin_function_or_method",
    "instance",
    "_Feature"
   ],
   "window_display": false
  }
 },
 "nbformat": 4,
 "nbformat_minor": 2
}
