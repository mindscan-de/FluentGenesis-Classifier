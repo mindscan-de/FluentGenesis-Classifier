{
 "cells": [
  {
   "cell_type": "markdown",
   "metadata": {},
   "source": [
    "## Basic Idea\n",
    "\n",
    "I want to try how a diff would look like, when BPE is used to encode the input, to work on tokens instead of chars.\n"
   ]
  },
  {
   "cell_type": "code",
   "execution_count": null,
   "metadata": {},
   "outputs": [],
   "source": [
    "from de.mindscan.fluentgenesis.bpe.bpe_model import BPEModel\n",
    "from de.mindscan.fluentgenesis.bpe.bpe_encoder_decoder import SimpleBPEEncoder"
   ]
  },
  {
   "cell_type": "code",
   "execution_count": null,
   "metadata": {},
   "outputs": [],
   "source": [
    "# load the BPE Model description file and hyper-parameter file.\n",
    "model = BPEModel(\"16K-full\",\"D:\\\\Projects\\\\SinglePageApplication\\\\Angular\\\\FluentGenesis-Classifier\\\\src\\\\de\\\\mindscan\\\\fluentgenesis\\\\bpe\\\\\")\n",
    "model.load_hparams()\n",
    "\n",
    "# load associated vocabulary and bpe-pairs\n",
    "model_vocabulary = model.load_tokens()\n",
    "model_bpe_data = model.load_bpe_pairs()\n",
    "    \n",
    "# we must also make use of the vocabulary and the byte-pair occuences and pass that information to the encoder.\n",
    "bpe_encoder = SimpleBPEEncoder(model_vocabulary, model_bpe_data)"
   ]
  },
  {
   "cell_type": "code",
   "execution_count": null,
   "metadata": {},
   "outputs": [],
   "source": []
  },
  {
   "cell_type": "markdown",
   "metadata": {},
   "source": [
    "## Case Number 0x01, this has substitutions and insertions\n",
    "\n",
    "* \"tt\" became \"span\"\n",
    "* \"text-monosoace\" was \"added\""
   ]
  },
  {
   "cell_type": "code",
   "execution_count": null,
   "metadata": {},
   "outputs": [],
   "source": [
    "del_line = '<tt class=\"ml-2 small\">{{revision.shortrev}}</tt>'\n",
    "add_line = '<span class=\"ml-2 small text-monospace\">{{revision.shortrev}}</span>'\n"
   ]
  },
  {
   "cell_type": "code",
   "execution_count": null,
   "metadata": {},
   "outputs": [],
   "source": [
    "bpe_del_line = bpe_encoder.encode([del_line])\n",
    "bpe_add_line = bpe_encoder.encode([add_line])"
   ]
  },
  {
   "cell_type": "code",
   "execution_count": null,
   "metadata": {},
   "outputs": [],
   "source": [
    "print(bpe_del_line)\n",
    "print(bpe_add_line)"
   ]
  },
  {
   "cell_type": "code",
   "execution_count": null,
   "metadata": {},
   "outputs": [],
   "source": []
  },
  {
   "cell_type": "markdown",
   "metadata": {},
   "source": [
    "We want to figure out, where we have identical parts, substitutions, deletions and insertions\n",
    "\n",
    "* insertions and deletions can be calculated by array stretching with a neutral element e.g. \"0\". The goal would be to have them euqal length, such that these arrays can be compared element wise.\n",
    "\n",
    "Let's assume we have such an algorithm"
   ]
  },
  {
   "cell_type": "code",
   "execution_count": null,
   "metadata": {},
   "outputs": [],
   "source": [
    "bpe_del_line_stretched=[\n",
    "    61, 3397, 2839, 1756, 539, 46, 51, 2119, 110, 625,    0,  0,    0,   0,    0, \n",
    "    10003, 124, 124, 6778, 47, 1755, 6844, 126, 126, 1794, 3397, 63]\n",
    "bpe_add_line_stretched=[\n",
    "    61, 3039, 2839, 1756, 539, 46, 51, 2119, 110, 625, 7645, 46, 2339, 450, 1070, \n",
    "    10003, 124, 124, 6778, 47, 1755, 6844, 126, 126, 1794, 3039, 63]"
   ]
  },
  {
   "cell_type": "markdown",
   "metadata": {},
   "source": [
    "We can now compare elementwise\n",
    "* Two equal elements -> no change\n",
    "* del is zero and add is non zero -> insertion\n",
    "* add is zero and del is non zero -> deletion\n",
    "* two different values -> replacement\n",
    "\n",
    "and output an array of equal length."
   ]
  },
  {
   "cell_type": "code",
   "execution_count": null,
   "metadata": {},
   "outputs": [],
   "source": [
    "def bpe_syndrome_calculation(del_line:[], add_line:[]):\n",
    "    syndrome = []\n",
    "    if not len(del_line) == len(add_line):\n",
    "        raise(\"can not calculate syndromes for different array lengths\")\n",
    "    for i in range(0,len(del_line)):\n",
    "        if del_line[i] == add_line[i]:\n",
    "            syndrome.append('_')\n",
    "        elif del_line[i] == 0:\n",
    "            syndrome.append('I')\n",
    "        elif add_line[i] == 0:\n",
    "            syndrome.append('D')\n",
    "        else:\n",
    "            syndrome.append('R')\n",
    "    return syndrome\n",
    "\n",
    "bpe_diff_syndrome = bpe_syndrome_calculation(bpe_del_line_stretched, bpe_add_line_stretched)"
   ]
  },
  {
   "cell_type": "code",
   "execution_count": null,
   "metadata": {},
   "outputs": [],
   "source": [
    "print(bpe_diff_syndrome)"
   ]
  },
  {
   "cell_type": "code",
   "execution_count": null,
   "metadata": {},
   "outputs": [],
   "source": []
  },
  {
   "cell_type": "code",
   "execution_count": null,
   "metadata": {},
   "outputs": [],
   "source": []
  },
  {
   "cell_type": "code",
   "execution_count": null,
   "metadata": {},
   "outputs": [],
   "source": []
  }
 ],
 "metadata": {
  "kernelspec": {
   "display_name": "Python 3",
   "language": "python",
   "name": "python3"
  },
  "language_info": {
   "codemirror_mode": {
    "name": "ipython",
    "version": 3
   },
   "file_extension": ".py",
   "mimetype": "text/x-python",
   "name": "python",
   "nbconvert_exporter": "python",
   "pygments_lexer": "ipython3",
   "version": "3.6.4"
  },
  "toc": {
   "base_numbering": 1,
   "nav_menu": {},
   "number_sections": true,
   "sideBar": true,
   "skip_h1_title": false,
   "title_cell": "Table of Contents",
   "title_sidebar": "Contents",
   "toc_cell": false,
   "toc_position": {},
   "toc_section_display": true,
   "toc_window_display": false
  }
 },
 "nbformat": 4,
 "nbformat_minor": 2
}
