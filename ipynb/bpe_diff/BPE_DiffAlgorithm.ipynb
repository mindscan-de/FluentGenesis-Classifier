{
 "cells": [
  {
   "cell_type": "markdown",
   "metadata": {},
   "source": [
    "## Basic Idea\n",
    "\n",
    "I want to try how a diff would look like, when BPE is used to encode the input, to work on tokens instead of chars.\n"
   ]
  },
  {
   "cell_type": "code",
   "execution_count": null,
   "metadata": {},
   "outputs": [],
   "source": [
    "from de.mindscan.fluentgenesis.bpe.bpe_model import BPEModel\n",
    "from de.mindscan.fluentgenesis.bpe.bpe_encoder_decoder import SimpleBPEEncoder"
   ]
  },
  {
   "cell_type": "code",
   "execution_count": null,
   "metadata": {},
   "outputs": [],
   "source": [
    "# load the BPE Model description file and hyper-parameter file.\n",
    "model = BPEModel(\"16K-full\",\"D:\\\\Projects\\\\SinglePageApplication\\\\Angular\\\\FluentGenesis-Classifier\\\\src\\\\de\\\\mindscan\\\\fluentgenesis\\\\bpe\\\\\")\n",
    "model.load_hparams()\n",
    "\n",
    "# load associated vocabulary and bpe-pairs\n",
    "model_vocabulary = model.load_tokens()\n",
    "model_bpe_data = model.load_bpe_pairs()\n",
    "    \n",
    "# we must also make use of the vocabulary and the byte-pair occuences and pass that information to the encoder.\n",
    "bpe_encoder = SimpleBPEEncoder(model_vocabulary, model_bpe_data)"
   ]
  },
  {
   "cell_type": "code",
   "execution_count": null,
   "metadata": {},
   "outputs": [],
   "source": []
  },
  {
   "cell_type": "markdown",
   "metadata": {},
   "source": [
    "## Case Number 0x01, this has substitutions and insertions\n",
    "\n",
    "* \"tt\" became \"span\"\n",
    "* \"text-monosoace\" was \"added\""
   ]
  },
  {
   "cell_type": "code",
   "execution_count": null,
   "metadata": {},
   "outputs": [],
   "source": [
    "del_line = '\t\t\t\t<app-content-change-set-side-by-side-diff [contentChangeSet]=\"contentChangeSet.line_diff_data\"></app-content-change-set-side-by-side-diff>'\n",
    "add_line = '\t\t\t\t<app-experimental-content-change-set-side-by-side-diff [contentChangeSet]=\"contentChangeSet.line_diff_data\"></app-experimental-content-change-set-side-by-side-diff>'\n"
   ]
  },
  {
   "cell_type": "code",
   "execution_count": null,
   "metadata": {},
   "outputs": [],
   "source": [
    "bpe_del_line = bpe_encoder.encode([del_line])\n",
    "bpe_add_line = bpe_encoder.encode([add_line])"
   ]
  },
  {
   "cell_type": "code",
   "execution_count": null,
   "metadata": {},
   "outputs": [],
   "source": [
    "print(bpe_del_line)\n",
    "print(bpe_add_line)"
   ]
  },
  {
   "cell_type": "code",
   "execution_count": null,
   "metadata": {},
   "outputs": [],
   "source": []
  },
  {
   "cell_type": "markdown",
   "metadata": {},
   "source": [
    "## Stretch out\n",
    "\n",
    "We want to figure out, where we have identical parts, substitutions, deletions and insertions\n",
    "\n",
    "* insertions and deletions can be calculated by array stretching with a neutral element e.g. \"0\". The goal would be to have them euqal length, such that these arrays can be compared element wise.\n",
    "\n",
    "Let's assume we have such an algorithm"
   ]
  },
  {
   "cell_type": "code",
   "execution_count": null,
   "metadata": {},
   "outputs": [],
   "source": []
  },
  {
   "cell_type": "code",
   "execution_count": null,
   "metadata": {},
   "outputs": [],
   "source": [
    "def v1_find_relative(bpe_del_line,bpe_add_line):\n",
    "    length_del = len(bpe_del_line)\n",
    "    rel_find = [None]*length_del\n",
    "    for i in range(0,length_del):\n",
    "        element = bpe_del_line[i]\n",
    "        if( element in bpe_add_line ):\n",
    "            # actually it returns the first index, but actually we might want one of the later.\n",
    "            index_inAdd = bpe_add_line[i:].index(element)\n",
    "            rel_find[i]=index_inAdd\n",
    "    print(\"rel_find\")\n",
    "    print(rel_find)\n",
    "    return rel_find\n",
    "\n",
    "\n",
    "def v1_stretchout(bpe_del_line, rel_find):\n",
    "    start_offset = 0;\n",
    "    stretched=[]\n",
    "    for i in range(0,len(bpe_del_line)):\n",
    "        if rel_find[i] is None:\n",
    "            stretched.append(bpe_del_line[i])\n",
    "        elif rel_find[i] <= start_offset:\n",
    "            stretched.append(bpe_del_line[i])\n",
    "        else:\n",
    "            stretched.extend([0]*(rel_find[i]-start_offset))\n",
    "            stretched.append(bpe_del_line[i])\n",
    "            # this is actually bad in case things were moved around...\n",
    "            start_offset=rel_find[i]\n",
    "    return stretched\n"
   ]
  },
  {
   "cell_type": "code",
   "execution_count": null,
   "metadata": {},
   "outputs": [],
   "source": [
    "def stretchout(bpe_del_line, bpe_add_line):\n",
    "    if(len(bpe_del_line) == len(bpe_add_line)):\n",
    "        return  bpe_del_line, bpe_add_line\n",
    "    elif(len(bpe_del_line) < len(bpe_add_line)):\n",
    "        return  v1_stretchout(bpe_del_line, v1_find_relative(bpe_del_line, bpe_add_line)), bpe_add_line\n",
    "    else:\n",
    "        return  bpe_del_line, v1_stretchout(bpe_add_line, v1_find_relative(bpe_add_line, bpe_del_line))"
   ]
  },
  {
   "cell_type": "code",
   "execution_count": null,
   "metadata": {},
   "outputs": [],
   "source": [
    "bpe_del_line_stretched, bpe_add_line_stretched = stretchout(bpe_del_line, bpe_add_line)"
   ]
  },
  {
   "cell_type": "code",
   "execution_count": null,
   "metadata": {},
   "outputs": [],
   "source": [
    "print( bpe_del_line_stretched )\n",
    "print( bpe_add_line_stretched )"
   ]
  },
  {
   "cell_type": "code",
   "execution_count": null,
   "metadata": {},
   "outputs": [],
   "source": []
  },
  {
   "cell_type": "markdown",
   "metadata": {},
   "source": [
    "bpe_del_line_stretched=[\n",
    "    61, 3397, 2839, 1756, 539, 46, 51, 2119, 110, 625,    0,  0,    0,   0,    0, \n",
    "    10003, 124, 124, 6778, 47, 1755, 6844, 126, 126, 1794, 3397, 63]\n",
    "bpe_add_line_stretched=[\n",
    "    61, 3039, 2839, 1756, 539, 46, 51, 2119, 110, 625, 7645, 46, 2339, 450, 1070, \n",
    "    10003, 124, 124, 6778, 47, 1755, 6844, 126, 126, 1794, 3039, 63]"
   ]
  },
  {
   "cell_type": "markdown",
   "metadata": {},
   "source": [
    "We can now compare elementwise\n",
    "* Two equal elements -> no change\n",
    "* del is zero and add is non zero -> insertion\n",
    "* add is zero and del is non zero -> deletion\n",
    "* two different values -> replacement\n",
    "\n",
    "and output an array of equal length."
   ]
  },
  {
   "cell_type": "code",
   "execution_count": null,
   "metadata": {},
   "outputs": [],
   "source": [
    "def bpe_syndrome_calculation(del_line:[], add_line:[]):\n",
    "    syndrome = []\n",
    "    if not len(del_line) == len(add_line):\n",
    "        raise(\"can not calculate syndromes for different array lengths\")\n",
    "    for i in range(0,len(del_line)):\n",
    "        if del_line[i] == add_line[i]:\n",
    "            syndrome.append('_')\n",
    "        elif del_line[i] == 0:\n",
    "            syndrome.append('I')\n",
    "        elif add_line[i] == 0:\n",
    "            syndrome.append('D')\n",
    "        else:\n",
    "            syndrome.append('R')\n",
    "    return syndrome\n",
    "\n",
    "bpe_diff_syndrome = bpe_syndrome_calculation(bpe_del_line_stretched, bpe_add_line_stretched)"
   ]
  },
  {
   "cell_type": "code",
   "execution_count": null,
   "metadata": {},
   "outputs": [],
   "source": [
    "print(bpe_diff_syndrome)"
   ]
  },
  {
   "cell_type": "code",
   "execution_count": null,
   "metadata": {},
   "outputs": [],
   "source": [
    "from IPython.display import HTML\n",
    "from html import escape"
   ]
  },
  {
   "cell_type": "code",
   "execution_count": null,
   "metadata": {},
   "outputs": [],
   "source": [
    "def bpe_visualize_syndrome_unified(syndrome:[], del_line:[], add_line:[] ):\n",
    "    result = []\n",
    "    for i in range(0,len(syndrome)):\n",
    "        if(syndrome[i]=='_'):\n",
    "            result.append( '<tt style=\"background:#eeeeff;\">'+escape(\"\".join(bpe_encoder.decode([del_line[i]])))+'</tt>' )\n",
    "        elif(syndrome[i]=='D'):\n",
    "            result.append( '<tt style=\"background:#ffc0c0;\"><del>'+escape(\"\".join(bpe_encoder.decode([del_line[i]])))+'</del></tt>' )\n",
    "        elif(syndrome[i]=='I'):\n",
    "            result.append( '<tt style=\"background:#c0ffc0;\">'+escape(\"\".join(bpe_encoder.decode([add_line[i]])))+'</tt>' )\n",
    "        elif(syndrome[i]=='R'):\n",
    "            result.append( '<tt style=\"background:#ffc0c0;\"><del>'+escape(\"\".join(bpe_encoder.decode([del_line[i]])))+'</del></tt>' )\n",
    "            result.append( '<tt style=\"background:#c0ffc0;\">'+escape(\"\".join(bpe_encoder.decode([add_line[i]])))+'</tt>' )\n",
    "            \n",
    "    return \"\".join(result)\n"
   ]
  },
  {
   "cell_type": "code",
   "execution_count": null,
   "metadata": {},
   "outputs": [],
   "source": [
    "def bpe_visualize_syndrome_sidebyside(syndrome:[], del_line:[], add_line:[]):\n",
    "    result_del = []\n",
    "    result_add = []\n",
    "    \n",
    "    for i in range(0,len(syndrome)):\n",
    "        if(syndrome[i]=='_'):\n",
    "            result_del.append( '<tt style=\"background:#eeeeff;\">'+escape(\"\".join(bpe_encoder.decode([del_line[i]])))+'</tt>' )\n",
    "            result_add.append( '<tt style=\"background:#eeeeff;\">'+escape(\"\".join(bpe_encoder.decode([del_line[i]])))+'</tt>' )\n",
    "        elif(syndrome[i]=='D'):\n",
    "            result_del.append( '<tt style=\"background:#ffa0a0;\">'+escape(\"\".join(bpe_encoder.decode([del_line[i]])))+'</tt>' )\n",
    "        elif(syndrome[i]=='I'):\n",
    "            result_add.append( '<tt style=\"background:#c0ffc0;\">'+escape(\"\".join(bpe_encoder.decode([add_line[i]])))+'</tt>' )\n",
    "        elif(syndrome[i]=='R'):\n",
    "            result_del.append( '<tt style=\"background:#ffc0c0;\">'+escape(\"\".join(bpe_encoder.decode([del_line[i]])))+'</tt>' )\n",
    "            result_add.append( '<tt style=\"background:#c0ffc0;\">'+escape(\"\".join(bpe_encoder.decode([add_line[i]])))+'</tt>' )\n",
    "    \n",
    "    return \"\".join(result_del), \"\".join(result_add)"
   ]
  },
  {
   "cell_type": "code",
   "execution_count": null,
   "metadata": {},
   "outputs": [],
   "source": [
    "html_string = bpe_visualize_syndrome_unified(bpe_diff_syndrome, bpe_del_line_stretched, bpe_add_line_stretched )\n",
    "\n",
    "display(HTML('<h4>unified diff</h4>'))\n",
    "display(HTML('<pre>'+html_string+'</pre>'))\n",
    "\n",
    "html_del, html_add = bpe_visualize_syndrome_sidebyside(bpe_diff_syndrome, bpe_del_line_stretched, bpe_add_line_stretched )\n",
    "\n",
    "display(HTML('<h4>split diff</h4>'))\n",
    "display(HTML('<pre>'+html_del+'</pre>'))\n",
    "display(HTML('<pre>'+html_add+'</pre>'))"
   ]
  },
  {
   "cell_type": "code",
   "execution_count": null,
   "metadata": {},
   "outputs": [],
   "source": []
  }
 ],
 "metadata": {
  "kernelspec": {
   "display_name": "Python 3",
   "language": "python",
   "name": "python3"
  },
  "language_info": {
   "codemirror_mode": {
    "name": "ipython",
    "version": 3
   },
   "file_extension": ".py",
   "mimetype": "text/x-python",
   "name": "python",
   "nbconvert_exporter": "python",
   "pygments_lexer": "ipython3",
   "version": "3.6.4"
  },
  "toc": {
   "base_numbering": 1,
   "nav_menu": {},
   "number_sections": true,
   "sideBar": true,
   "skip_h1_title": false,
   "title_cell": "Table of Contents",
   "title_sidebar": "Contents",
   "toc_cell": false,
   "toc_position": {},
   "toc_section_display": true,
   "toc_window_display": false
  }
 },
 "nbformat": 4,
 "nbformat_minor": 2
}
