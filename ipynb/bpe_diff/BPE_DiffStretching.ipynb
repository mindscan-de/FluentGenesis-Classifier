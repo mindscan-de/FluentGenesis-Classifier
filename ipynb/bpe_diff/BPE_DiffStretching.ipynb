{
 "cells": [
  {
   "cell_type": "markdown",
   "metadata": {},
   "source": [
    "# Basic Idea\n",
    "\n",
    "Stretch out algorithm...."
   ]
  },
  {
   "cell_type": "code",
   "execution_count": null,
   "metadata": {},
   "outputs": [],
   "source": [
    "from de.mindscan.fluentgenesis.bpe.bpe_model import BPEModel\n",
    "from de.mindscan.fluentgenesis.bpe.bpe_encoder_decoder import SimpleBPEEncoder"
   ]
  },
  {
   "cell_type": "code",
   "execution_count": null,
   "metadata": {},
   "outputs": [],
   "source": [
    "# load the BPE Model description file and hyper-parameter file.\n",
    "model = BPEModel(\"16K-full\",\"D:\\\\Projects\\\\SinglePageApplication\\\\Angular\\\\FluentGenesis-Classifier\\\\src\\\\de\\\\mindscan\\\\fluentgenesis\\\\bpe\\\\\")\n",
    "model.load_hparams()\n",
    "\n",
    "# load associated vocabulary and bpe-pairs\n",
    "model_vocabulary = model.load_tokens()\n",
    "model_bpe_data = model.load_bpe_pairs()\n",
    "    \n",
    "# we must also make use of the vocabulary and the byte-pair occuences and pass that information to the encoder.\n",
    "bpe_encoder = SimpleBPEEncoder(model_vocabulary, model_bpe_data)"
   ]
  },
  {
   "cell_type": "markdown",
   "metadata": {},
   "source": [
    "## Case Number 0x01, this has substitutions and insertions\n",
    "\n",
    "* \"tt\" became \"span\"\n",
    "* \"text-monosoace\" was \"added\"\n"
   ]
  },
  {
   "cell_type": "code",
   "execution_count": null,
   "metadata": {},
   "outputs": [],
   "source": [
    "del_line = '<tt class=\"ml-2 small\">{{revision.shortrev}}</tt>'\n",
    "add_line = '<span class=\"ml-2 small text-monospace\">{{revision.shortrev}}</span>'"
   ]
  },
  {
   "cell_type": "code",
   "execution_count": null,
   "metadata": {},
   "outputs": [],
   "source": [
    "bpe_del_line = bpe_encoder.encode([del_line])\n",
    "bpe_add_line = bpe_encoder.encode([add_line])"
   ]
  },
  {
   "cell_type": "code",
   "execution_count": null,
   "metadata": {},
   "outputs": [],
   "source": [
    "print(\"del_line:\")\n",
    "print(bpe_del_line)\n",
    "print(\"add_line:\")\n",
    "print(bpe_add_line)\n"
   ]
  },
  {
   "cell_type": "code",
   "execution_count": null,
   "metadata": {},
   "outputs": [],
   "source": [
    "bpe_del_line_stretched_expected=[\n",
    "    61, 3397, 2839, 1756, 539, 46, 51, 2119, 110, 625,    0,  0,    0,   0,    0, \n",
    "    10003, 124, 124, 6778, 47, 1755, 6844, 126, 126, 1794, 3397, 63]\n",
    "bpe_add_line_stretched_expected=[\n",
    "    61, 3039, 2839, 1756, 539, 46, 51, 2119, 110, 625, 7645, 46, 2339, 450, 1070, \n",
    "    10003, 124, 124, 6778, 47, 1755, 6844, 126, 126, 1794, 3039, 63]"
   ]
  },
  {
   "cell_type": "code",
   "execution_count": null,
   "metadata": {},
   "outputs": [],
   "source": [
    "def bpe_check_line(line_name, result, expected ):\n",
    "    if(result != expected):\n",
    "        print(str(line_name) + \" - not good\")\n",
    "    else:\n",
    "        print(str(line_name) + \" - is good\")\n",
    "        "
   ]
  },
  {
   "cell_type": "code",
   "execution_count": null,
   "metadata": {},
   "outputs": [],
   "source": [
    "def bpe_stretch_out(del_line: str, add_line: str):\n",
    "    result_del_line = []\n",
    "    result_add_line = []\n",
    "    \n",
    "    \n",
    "    \n",
    "    return (result_del_line, result_add_line)\n",
    "\n",
    "bpe_del_line_stretched, bpe_add_line_stretched = bpe_stretch_out(bpe_del_line, bpe_add_line)\n",
    "\n",
    "bpe_check_line(\"del_line\",  bpe_del_line_stretched, bpe_del_line_stretched_expected)\n",
    "bpe_check_line(\"add_line\",  bpe_add_line_stretched, bpe_add_line_stretched_expected)\n"
   ]
  },
  {
   "cell_type": "markdown",
   "metadata": {},
   "source": [
    "## Stretchout version 1\n",
    "\n",
    "This works for the substitutions and insertions. in the previous example."
   ]
  },
  {
   "cell_type": "code",
   "execution_count": null,
   "metadata": {},
   "outputs": [],
   "source": [
    "def v1_find_relative(bpe_del_line,bpe_add_line):\n",
    "    length_del = len(bpe_del_line)\n",
    "    rel_find = [None]*length_del\n",
    "    for i in range(0,length_del):\n",
    "        element = bpe_del_line[i]\n",
    "        if( element in bpe_add_line ):\n",
    "            # actually it returns the first index, but actually we might want one of the later.\n",
    "            index_inAdd = bpe_add_line.index(element)-i\n",
    "            rel_find[i]=index_inAdd\n",
    "    return rel_find\n",
    "\n",
    "\n",
    "def v1_stretchout(bpe_del_line, rel_find):\n",
    "    start_offset = 0;\n",
    "    stretched=[]\n",
    "    for i in range(0,len(bpe_del_line)):\n",
    "        if rel_find[i] is None:\n",
    "            stretched.append(bpe_del_line[i])\n",
    "        elif rel_find[i] <= start_offset:\n",
    "            stretched.append(bpe_del_line[i])\n",
    "        else:\n",
    "            stretched.extend([0]*(rel_find[i]-start_offset))\n",
    "            stretched.append(bpe_del_line[i])\n",
    "            # this is actually bad in case things were moved around...\n",
    "            start_offset=rel_find[i]\n",
    "    return stretched\n",
    "\n",
    "stretchedv1 = v1_stretchout(bpe_del_line, v1_find_relative(bpe_del_line, bpe_add_line))"
   ]
  },
  {
   "cell_type": "code",
   "execution_count": null,
   "metadata": {},
   "outputs": [],
   "source": [
    "bpe_check_line(\"addline\",stretchedv1,bpe_del_line_stretched_expected)\n",
    "\n",
    "\n",
    "\n",
    "print(stretchedv1)\n",
    "print(bpe_del_line_stretched_expected)"
   ]
  },
  {
   "cell_type": "code",
   "execution_count": null,
   "metadata": {},
   "outputs": [],
   "source": []
  },
  {
   "cell_type": "code",
   "execution_count": null,
   "metadata": {},
   "outputs": [],
   "source": []
  }
 ],
 "metadata": {
  "kernelspec": {
   "display_name": "Python 3",
   "language": "python",
   "name": "python3"
  },
  "language_info": {
   "codemirror_mode": {
    "name": "ipython",
    "version": 3
   },
   "file_extension": ".py",
   "mimetype": "text/x-python",
   "name": "python",
   "nbconvert_exporter": "python",
   "pygments_lexer": "ipython3",
   "version": "3.6.4"
  },
  "toc": {
   "base_numbering": 1,
   "nav_menu": {},
   "number_sections": true,
   "sideBar": true,
   "skip_h1_title": false,
   "title_cell": "Table of Contents",
   "title_sidebar": "Contents",
   "toc_cell": false,
   "toc_position": {},
   "toc_section_display": true,
   "toc_window_display": false
  }
 },
 "nbformat": 4,
 "nbformat_minor": 2
}
