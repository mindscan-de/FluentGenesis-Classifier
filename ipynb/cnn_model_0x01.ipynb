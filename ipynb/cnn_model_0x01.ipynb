{
 "cells": [
  {
   "cell_type": "markdown",
   "metadata": {},
   "source": [
    "# CNN Model 0x01 - Explore Keras-API\n",
    "(C) Maxim Gansert 2019, 2020\n",
    "\n",
    "Some time ago I implemented a model using a cnn, consisting of multiple parallel layers combined with some sequential layers for classifying some text. I wanted to reimplement this architecture in keras. The former implementation described the graph using a lot of tensorflow primitives. The configuration was also quite a pain. \n",
    "\n",
    "But since then Tensorflow was completely revised and using high-level-APIs like Keras and/or PyTorch became the norm. These high-level-APIs helped to structurize the primitives over the last years. "
   ]
  },
  {
   "cell_type": "code",
   "execution_count": null,
   "metadata": {
   },
   "outputs": [],
   "source": [
    "from __future__ import absolute_import, division, print_function, unicode_literals\n",
    "\n",
    "import numpy as np\n",
    "import tensorflow as tf\n",
    "from tensorflow import keras\n",
    "\n",
    "print(tf.__version__)\n"
   ]
  },
  {
   "cell_type": "code",
   "execution_count": null,
   "metadata": {
   },
   "outputs": [],
   "source": [
    "from keras import Sequential, Model\n",
    "from keras import layers\n",
    "from keras.utils import plot_model"
   ]
  },
  {
   "cell_type": "code",
   "execution_count": null,
   "metadata": {
   },
   "outputs": [],
   "source": [
    "vocab_size = 512\n",
    "embedding_dimension = 150\n",
    "my_input_length = 64\n",
    "\n",
    "embedding_matrix=np.zeros((vocab_size, embedding_dimension), dtype=np.float32)\n"
   ]
  },
  {
   "cell_type": "code",
   "execution_count": null,
   "metadata": {
   },
   "outputs": [],
   "source": [
    "model = Sequential()"
   ]
  },
  {
   "cell_type": "code",
   "execution_count": null,
   "metadata": {
   },
   "outputs": [],
   "source": [
    "model.add( layers.Embedding(input_dim=vocab_size, output_dim=embedding_dimension, weights=[embedding_matrix], input_length=my_input_length, trainable=False) )\n",
    "reshapedInput = layers.Reshape(target_shape=(my_input_length, embedding_dimension, 1))\n",
    "model.add( reshapedInput)\n",
    "\n",
    "cnn_input = layers.Input(shape=(64,150,1))\n",
    "c1 = layers.Conv2D(100, kernel_size=(1,embedding_dimension), strides=(1,1), padding='valid', activation='relu' )(cnn_input)\n",
    "p1 = layers.GlobalMaxPooling2D()(c1)\n",
    "c2 = layers.Conv2D(50, kernel_size=(2,embedding_dimension), strides=(1,1), padding='valid', activation='relu' )(cnn_input)\n",
    "p2 = layers.GlobalMaxPooling2D()(c2)\n",
    "c3 = layers.Conv2D(50, kernel_size=(3,embedding_dimension), strides=(1,1), padding='valid', activation='relu' )(cnn_input)\n",
    "p3 = layers.GlobalMaxPooling2D()(c3)\n",
    "c4 = layers.Conv2D(50, kernel_size=(4,embedding_dimension), strides=(1,1), padding='valid', activation='relu' )(cnn_input)\n",
    "p4 = layers.GlobalMaxPooling2D()(c4)\n",
    "merged = layers.concatenate([p1,p2,p3,p4])\n",
    "\n",
    "cnn_model = Model(cnn_input, merged)\n",
    "\n",
    "model.add(cnn_model)\n",
    "model.add( layers.Dropout(0.25) )\n",
    "model.add( layers.Dense(512, activation='relu'))\n",
    "model.add( layers.Dense(512, activation='relu'))\n",
    "model.add( layers.Dropout(0.5) )\n",
    "model.add( layers.Dense(100, activation='sigmoid'))\n",
    "\n"
   ]
  },
  {
   "cell_type": "code",
   "execution_count": null,
   "metadata": {
   },
   "outputs": [],
   "source": [
    "model.compile(optimizer='adam', loss='binary_crossentropy', metrics=['accuracy'])\n",
    "model.summary();\n",
    "\n",
    "cnn_model.summary();"
   ]
  },
  {
   "cell_type": "code",
   "execution_count": null,
   "metadata": {
    "scrolled": false
   },
   "outputs": [],
   "source": [
    "plot_model(cnn_model, to_file=\"current_cnn_model.png\", show_shapes=True, show_layer_names=True)\n",
    "plot_model(model, to_file=\"current_model.png\", show_shapes=True, show_layer_names=True)\n"
   ]
  },
  {
   "cell_type": "markdown",
   "metadata": {},
   "source": [
    "![The CNN Model](current_cnn_model.png)\n",
    "![The Model](current_model.png)"
   ]
  },
  {
   "cell_type": "code",
   "execution_count": null,
   "metadata": {
   },
   "outputs": [],
   "source": []
  },
  {
   "cell_type": "code",
   "execution_count": null,
   "metadata": {},
   "outputs": [],
   "source": []
  },
  {
   "cell_type": "code",
   "execution_count": null,
   "metadata": {},
   "outputs": [],
   "source": []
  },
  {
   "cell_type": "code",
   "execution_count": null,
   "metadata": {},
   "outputs": [],
   "source": []
  },
  {
   "cell_type": "code",
   "execution_count": null,
   "metadata": {},
   "outputs": [],
   "source": []
  },
  {
   "cell_type": "code",
   "execution_count": null,
   "metadata": {},
   "outputs": [],
   "source": []
  },
  {
   "cell_type": "code",
   "execution_count": null,
   "metadata": {},
   "outputs": [],
   "source": []
  },
  {
   "cell_type": "code",
   "execution_count": null,
   "metadata": {},
   "outputs": [],
   "source": []
  },
  {
   "cell_type": "code",
   "execution_count": null,
   "metadata": {},
   "outputs": [],
   "source": []
  }
 ],
 "metadata": {
  "kernelspec": {
   "display_name": "Python 3",
   "language": "python",
   "name": "python3"
  },
  "language_info": {
   "codemirror_mode": {
    "name": "ipython",
    "version": 3
   },
   "file_extension": ".py",
   "mimetype": "text/x-python",
   "name": "python",
   "nbconvert_exporter": "python",
   "pygments_lexer": "ipython3",
   "version": "3.6.4"
  },
  "toc": {
   "base_numbering": 1,
   "nav_menu": {},
   "number_sections": true,
   "sideBar": true,
   "skip_h1_title": false,
   "title_cell": "Table of Contents",
   "title_sidebar": "Contents",
   "toc_cell": false,
   "toc_position": {},
   "toc_section_display": true,
   "toc_window_display": false
  },
  "varInspector": {
   "cols": {
    "lenName": 16,
    "lenType": 16,
    "lenVar": 40
   },
   "kernels_config": {
    "python": {
     "delete_cmd_postfix": "",
     "delete_cmd_prefix": "del ",
     "library": "var_list.py",
     "varRefreshCmd": "print(var_dic_list())"
    },
    "r": {
     "delete_cmd_postfix": ") ",
     "delete_cmd_prefix": "rm(",
     "library": "var_list.r",
     "varRefreshCmd": "cat(var_dic_list()) "
    }
   },
   "types_to_exclude": [
    "module",
    "function",
    "builtin_function_or_method",
    "instance",
    "_Feature"
   ],
   "window_display": false
  }
 },
 "nbformat": 4,
 "nbformat_minor": 2
}
