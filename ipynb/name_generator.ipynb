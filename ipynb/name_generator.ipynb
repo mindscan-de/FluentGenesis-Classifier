{
 "cells": [
  {
   "cell_type": "markdown",
   "metadata": {},
   "source": [
    "# Project Code Name Generator\n",
    "----\n",
    "Inspired by the name generator for the spy equipment by a ceratin organization"
   ]
  },
  {
   "cell_type": "code",
   "execution_count": null,
   "metadata": {},
   "outputs": [],
   "source": [
    "import random"
   ]
  },
  {
   "cell_type": "markdown",
   "metadata": {},
   "source": [
    "some of the vocabulary was taken from \n",
    "\n",
    "https://github.com/ternus/nsaproductgenerator/\n",
    "\n",
    "which was provided under MIT-License\n",
    "\n",
    "----\n",
    "```\n",
    "Copyright (c) 2014 Christian J. Ternus <ternus@cternus.net>\n",
    "\n",
    "Permission is hereby granted, free of charge, to any person obtaining\n",
    "a copy of this software and associated documentation files (the\n",
    "\"Software\"), to deal in the Software without restriction, including\n",
    "without limitation the rights to use, copy, modify, merge, publish,\n",
    "distribute, sublicense, and/or sell copies of the Software, and to\n",
    "permit persons to whom the Software is furnished to do so, subject to\n",
    "the following conditions:\n",
    "\n",
    "The above copyright notice and this permission notice shall be included\n",
    "in all copies or substantial portions of the Software.\n",
    "\n",
    "THE SOFTWARE IS PROVIDED \"AS IS\", WITHOUT WARRANTY OF ANY KIND,\n",
    "EXPRESS OR IMPLIED, INCLUDING BUT NOT LIMITED TO THE WARRANTIES OF\n",
    "MERCHANTABILITY, FITNESS FOR A PARTICULAR PURPOSE AND NONINFRINGEMENT.\n",
    "IN NO EVENT SHALL THE AUTHORS OR COPYRIGHT HOLDERS BE LIABLE FOR ANY\n",
    "CLAIM, DAMAGES OR OTHER LIABILITY, WHETHER IN AN ACTION OF CONTRACT,\n",
    "TORT OR OTHERWISE, ARISING FROM, OUT OF OR IN CONNECTION WITH THE\n",
    "SOFTWARE OR THE USE OR OTHER DEALINGS IN THE SOFTWARE.\n",
    "```\n",
    "\n",
    "----\n"
   ]
  },
  {
   "cell_type": "code",
   "execution_count": null,
   "metadata": {},
   "outputs": [],
   "source": [
    "# feel free to add more adjectives\n",
    "codenames_adjective = [\"loud\",\"red\",\"blue\",\"green\",\"yellow\",\"irate\",\"angry\",\"furious\",\"peeved\",\"happy\",\"slimy\",\"sleepy\",\n",
    "                      \"junior\",\"slicker\",\"united\",\"somber\",\"bizarre\",\"odd\",\"weird\",\"wrong\",\"fluent\",\"latent\",\"chilly\",\n",
    "                      \"strange\",\"loud\",\"silent\",\"hopping\",\"orange\",\"violet\",\"violent\",\"ultra\",\"selective\",\"human\",\n",
    "                      \"residential\",\"usual\",\"colorful\", \"worthy\",\"ultimate\",\"stale\",\"correct\",\"tired\",\"cheap\", \"complex\",\n",
    "                      \"spiritual\",\"olive\",\"bold\", \"secondary\", \"radical\", \"keen\", \"consistent\",\"northern\",\"electric\",\n",
    "                      \"endless\", \"bright\",\"olympic\",\"selfish\",\"grateful\",\"infinite\",\"pale\",\"curious\",\"frank\",\"sane\"]\n",
    "\n",
    "#feel free to add more nouns\n",
    "codenames_noun =[\"whisper\",\"felony\",\"moon\",\"penguin\",\"waffle\",\"maestro\",\"night\",\"trinity\",\"deity\",\"monkey\",\n",
    "                 \"ark\",\"squirrel\",\"iron\",\"bounce\",\"farm\",\"chef\",\"trough\",\"net\",\"trawl\",\"glee\",\"genesis\",\n",
    "                 \"water\",\"spork\",\"plow\",\"files\",\"cursor\",\"market\",\"myth\",\"lemon\",\"xkey\",\"quasar\",\"feed\",\n",
    "                 \"souffle\",\"route\",\"bagel\",\"montana\",\"miranda\",\"analyst\",\"auto\",\"watch\",\"photo\",\"yard\",\n",
    "                 \"source\",\"seagull\",\"toll\",\"spawn\",\"gopher\",\"chipmunk\",\"set\",\"calendar\",\"artist\",\"chaser\",\n",
    "                 \"scan\",\"tote\",\"beam\",\"entourage\",\"genesis\",\"walk\",\"spatula\",\"rage\",\"fire\",\"master\",\"crow\",\n",
    "                 \"steel\", \"lithium\",\"maverick\",\"change\",\"copper\",\"goldmine\",\"file\",\"drive\",\"data\",\"matrix\",\n",
    "                 \"strike\",\"steak\",\"gateway\",\"inquisitor\",\"touch\",\"quarter\",\"crop\",\"flux\",\"peak\",\"stream\",\n",
    "                 \"wire\",\"guardian\"];\n",
    "\n",
    "def generate_name():\n",
    "    random_adjective = random.choice(codenames_adjective*4).capitalize();\n",
    "    random_noun = random.choice(codenames_noun*4).capitalize();\n",
    "    \n",
    "    return random_adjective + random_noun\n",
    "\n"
   ]
  },
  {
   "cell_type": "markdown",
   "metadata": {},
   "source": [
    "# Run next cell for a random project name"
   ]
  },
  {
   "cell_type": "code",
   "execution_count": null,
   "metadata": {},
   "outputs": [],
   "source": [
    "generate_name()"
   ]
  },
  {
   "cell_type": "code",
   "execution_count": null,
   "metadata": {},
   "outputs": [],
   "source": []
  },
  {
   "cell_type": "code",
   "execution_count": null,
   "metadata": {},
   "outputs": [],
   "source": []
  },
  {
   "cell_type": "markdown",
   "metadata": {},
   "source": [
    "# Names claimed\n",
    "----\n",
    "These names should not be used any more, since they are already used/allocated for a project."
   ]
  },
  {
   "cell_type": "markdown",
   "metadata": {},
   "source": [
    "* ``LoudGoldmine`` is taken - for the Dataengineer-Toolchain-Projects\n",
    "* ``SilentFeed`` is taken - for whatever / Label generator, dataset creator etc.\n",
    "* ``CheapLithium`` is taken - for a decisiontree modeling tool - to make logdata and bug analysis cheaper\n",
    "* ``RadicalArtist`` is taken - for some image GAN project\n",
    "* ``ChillyAnalyst`` is taken - for the private projects plans and unfinished ideas"
   ]
  },
  {
   "cell_type": "code",
   "execution_count": null,
   "metadata": {},
   "outputs": [],
   "source": []
  }
 ],
 "metadata": {
  "kernelspec": {
   "display_name": "Python 3",
   "language": "python",
   "name": "python3"
  },
  "language_info": {
   "codemirror_mode": {
    "name": "ipython",
    "version": 3
   },
   "file_extension": ".py",
   "mimetype": "text/x-python",
   "name": "python",
   "nbconvert_exporter": "python",
   "pygments_lexer": "ipython3",
   "version": "3.6.4"
  },
  "toc": {
   "base_numbering": 1,
   "nav_menu": {},
   "number_sections": true,
   "sideBar": true,
   "skip_h1_title": false,
   "title_cell": "Table of Contents",
   "title_sidebar": "Contents",
   "toc_cell": false,
   "toc_position": {},
   "toc_section_display": true,
   "toc_window_display": false
  }
 },
 "nbformat": 4,
 "nbformat_minor": 2
}
