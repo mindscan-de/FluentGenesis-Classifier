{
 "cells": [
  {
   "cell_type": "markdown",
   "metadata": {},
   "source": [
    "# TFHUB.dev Experiments 0x01\n",
    "----"
   ]
  },
  {
   "cell_type": "code",
   "execution_count": null,
   "metadata": {},
   "outputs": [],
   "source": [
    "#import tensorflow as tf"
   ]
  },
  {
   "cell_type": "code",
   "execution_count": null,
   "metadata": {},
   "outputs": [],
   "source": [
    "import tensorflow.compat.v1 as tf\n",
    "#To make tf 2.0 compatible with tf1.0 code, we disable the tf2.0 functionalities\n",
    "tf.disable_eager_execution()"
   ]
  },
  {
   "cell_type": "code",
   "execution_count": null,
   "metadata": {},
   "outputs": [],
   "source": [
    "import tensorflow_hub as hub\n",
    "import matplotlib.pyplot as plt"
   ]
  },
  {
   "cell_type": "code",
   "execution_count": null,
   "metadata": {},
   "outputs": [],
   "source": [
    "# Load BigGAN-deep 256 module.\n",
    "module = hub.Module('https://tfhub.dev/deepmind/biggan-deep-512/1')"
   ]
  },
  {
   "cell_type": "code",
   "execution_count": null,
   "metadata": {},
   "outputs": [],
   "source": [
    "# Using the context manager.\n",
    "with tf.compat.v1.Session() as sess:\n",
    "    # Sample random noise (z) and ImageNet label (y) inputs.\n",
    "    batch_size = 2\n",
    "    truncation = 0.5  # scalar truncation value in [0.0, 1.0]\n",
    "    z = truncation * tf.random.truncated_normal([batch_size, 128])  # noise sample\n",
    "    y_index = tf.random.uniform([batch_size], maxval=1000, dtype=tf.int32)\n",
    "    y = tf.one_hot(y_index, 1000)  # one-hot ImageNet label\n",
    "    \n",
    "    for _ in range(1):\n",
    "        y_pert = tf.random.uniform([batch_size], maxval=1000, dtype=tf.int32)\n",
    "        y = y + 0.08*tf.one_hot(y_pert, 1000)  # one-hot ImageNet label\n",
    "    \n",
    "    #y = y+tf.random.uniform([batch_size,1000], maxval=0.02, dtype=tf.float32)\n",
    "    y = tf.nn.softmax(y)\n",
    "    \n",
    "    sess.run(tf.global_variables_initializer())\n",
    "    \n",
    "    # Call BigGAN on a dict of the inputs to generate a batch of images with shape\n",
    "    # [batch_size, 256, 256, 3] and range [-1, 1].\n",
    "    samples = module(dict(y=y, z=z, truncation=truncation))\n",
    "    sampleimage_1 = samples[0].eval()\n",
    "    sampleimage_2 = samples[1].eval()"
   ]
  },
  {
   "cell_type": "code",
   "execution_count": null,
   "metadata": {},
   "outputs": [],
   "source": [
    "plt.figure(figsize=(6, 6))\n",
    "imgplot = plt.imshow(sampleimage_1)"
   ]
  },
  {
   "cell_type": "code",
   "execution_count": null,
   "metadata": {},
   "outputs": [],
   "source": [
    "plt.figure(figsize=(6, 6))\n",
    "imgplot = plt.imshow(sampleimage_2)"
   ]
  },
  {
   "cell_type": "code",
   "execution_count": null,
   "metadata": {},
   "outputs": [],
   "source": []
  },
  {
   "cell_type": "code",
   "execution_count": null,
   "metadata": {},
   "outputs": [],
   "source": []
  },
  {
   "cell_type": "code",
   "execution_count": null,
   "metadata": {},
   "outputs": [],
   "source": []
  },
  {
   "cell_type": "code",
   "execution_count": null,
   "metadata": {},
   "outputs": [],
   "source": []
  }
 ],
 "metadata": {
  "kernelspec": {
   "display_name": "Python 3",
   "language": "python",
   "name": "python3"
  },
  "language_info": {
   "codemirror_mode": {
    "name": "ipython",
    "version": 3
   },
   "file_extension": ".py",
   "mimetype": "text/x-python",
   "name": "python",
   "nbconvert_exporter": "python",
   "pygments_lexer": "ipython3",
   "version": "3.6.4"
  },
  "toc": {
   "base_numbering": 1,
   "nav_menu": {},
   "number_sections": true,
   "sideBar": true,
   "skip_h1_title": false,
   "title_cell": "Table of Contents",
   "title_sidebar": "Contents",
   "toc_cell": false,
   "toc_position": {},
   "toc_section_display": true,
   "toc_window_display": false
  }
 },
 "nbformat": 4,
 "nbformat_minor": 2
}
